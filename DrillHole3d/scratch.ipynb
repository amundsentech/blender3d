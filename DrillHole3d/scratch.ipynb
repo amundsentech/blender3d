{
 "cells": [
  {
   "cell_type": "code",
   "execution_count": 13,
   "metadata": {},
   "outputs": [],
   "source": [
    "import pandas as pd\n",
    "from tqdm.autonotebook import tqdm"
   ]
  },
  {
   "cell_type": "code",
   "execution_count": 14,
   "metadata": {},
   "outputs": [],
   "source": [
    "file_path='data/Ethos Drill Logs_Idaho Copper Province_2021.xlsx'\n",
    "data=pd.ExcelFile(file_path)"
   ]
  },
  {
   "cell_type": "code",
   "execution_count": 17,
   "metadata": {},
   "outputs": [
    {
     "name": "stderr",
     "output_type": "stream",
     "text": [
      "loading data: 100%|██████████| 35/35 [00:23<00:00,  1.50it/s]\n",
      "grabbing headers: 100%|██████████| 35/35 [00:00<00:00, 307114.31it/s]\n"
     ]
    }
   ],
   "source": [
    "data_list=tqdm(data.sheet_names,desc='loading data')\n",
    "data_dir={sheet:pd.read_excel(file_path,sheet_name=sheet) for sheet in data_list}\n",
    "\n",
    "data_list=tqdm(data.sheet_names,desc='grabbing headers')\n",
    "\n",
    "header_dir={sheet:data_dir[sheet].columns for sheet in data_list}"
   ]
  },
  {
   "cell_type": "code",
   "execution_count": null,
   "metadata": {},
   "outputs": [],
   "source": []
  }
 ],
 "metadata": {
  "kernelspec": {
   "display_name": "Python 3.9.13",
   "language": "python",
   "name": "python3"
  },
  "language_info": {
   "codemirror_mode": {
    "name": "ipython",
    "version": 3
   },
   "file_extension": ".py",
   "mimetype": "text/x-python",
   "name": "python",
   "nbconvert_exporter": "python",
   "pygments_lexer": "ipython3",
   "version": "3.9.13"
  },
  "orig_nbformat": 4,
  "vscode": {
   "interpreter": {
    "hash": "c02ce77fc9854b14bbf737e9ff58b840b53c17f549f3baecfcf54a3b4065de24"
   }
  }
 },
 "nbformat": 4,
 "nbformat_minor": 2
}
